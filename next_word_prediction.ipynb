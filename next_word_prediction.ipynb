{
 "cells": [
  {
   "cell_type": "code",
   "execution_count": 1,
   "id": "795d1a25",
   "metadata": {},
   "outputs": [
    {
     "name": "stderr",
     "output_type": "stream",
     "text": [
      "[nltk_data] Downloading package gutenberg to\n",
      "[nltk_data]     C:\\Users\\dg\\AppData\\Roaming\\nltk_data...\n",
      "[nltk_data]   Package gutenberg is already up-to-date!\n"
     ]
    },
    {
     "data": {
      "text/plain": [
       "True"
      ]
     },
     "execution_count": 1,
     "metadata": {},
     "output_type": "execute_result"
    }
   ],
   "source": [
    "import nltk\n",
    "nltk.download('gutenberg')"
   ]
  },
  {
   "cell_type": "code",
   "execution_count": 2,
   "id": "5aa4f5a2",
   "metadata": {},
   "outputs": [],
   "source": [
    "from nltk.corpus import gutenberg\n",
    "import pandas as pd"
   ]
  },
  {
   "cell_type": "code",
   "execution_count": 3,
   "id": "c41f9be8",
   "metadata": {},
   "outputs": [
    {
     "name": "stdout",
     "output_type": "stream",
     "text": [
      "WARNING:tensorflow:From D:\\anaconda\\Lib\\site-packages\\keras\\src\\losses.py:2976: The name tf.losses.sparse_softmax_cross_entropy is deprecated. Please use tf.compat.v1.losses.sparse_softmax_cross_entropy instead.\n",
      "\n"
     ]
    }
   ],
   "source": [
    "import numpy as np\n",
    "from tensorflow.keras.preprocessing.text import Tokenizer\n",
    "from tensorflow.keras.preprocessing.sequence import pad_sequences\n",
    "from sklearn.model_selection import train_test_split"
   ]
  },
  {
   "cell_type": "markdown",
   "id": "3009cf08",
   "metadata": {},
   "source": [
    "# DATA LOADING"
   ]
  },
  {
   "cell_type": "code",
   "execution_count": 4,
   "id": "67024e64",
   "metadata": {},
   "outputs": [],
   "source": [
    "with open('shakespeare-hamlet.txt','r') as f:\n",
    "    text = f.read().lower()"
   ]
  },
  {
   "cell_type": "code",
   "execution_count": 5,
   "id": "a24c61ad",
   "metadata": {},
   "outputs": [],
   "source": [
    "tokenizer = Tokenizer()"
   ]
  },
  {
   "cell_type": "code",
   "execution_count": 6,
   "id": "027a12eb",
   "metadata": {},
   "outputs": [],
   "source": [
    "tokenizer.fit_on_texts([text])"
   ]
  },
  {
   "cell_type": "code",
   "execution_count": 7,
   "id": "e3042416",
   "metadata": {},
   "outputs": [],
   "source": [
    "total_words = len(tokenizer.word_index)"
   ]
  },
  {
   "cell_type": "code",
   "execution_count": 8,
   "id": "df11459b",
   "metadata": {},
   "outputs": [
    {
     "data": {
      "text/plain": [
       "4817"
      ]
     },
     "execution_count": 8,
     "metadata": {},
     "output_type": "execute_result"
    }
   ],
   "source": [
    "total_words"
   ]
  },
  {
   "cell_type": "code",
   "execution_count": 9,
   "id": "e4ca3a66",
   "metadata": {},
   "outputs": [],
   "source": [
    "input_sequences = []"
   ]
  },
  {
   "cell_type": "code",
   "execution_count": 10,
   "id": "0a8f99d9",
   "metadata": {},
   "outputs": [],
   "source": [
    "for line in text.split(\"\\n\"):\n",
    "    token_list = tokenizer.texts_to_sequences([line])[0]\n",
    "    for i in range(1,len(token_list)):\n",
    "        n_gram_sequence = token_list[:i+1]\n",
    "        input_sequences.append(n_gram_sequence)\n",
    "        "
   ]
  },
  {
   "cell_type": "code",
   "execution_count": 11,
   "id": "a78e81c6",
   "metadata": {},
   "outputs": [
    {
     "data": {
      "text/plain": [
       "14"
      ]
     },
     "execution_count": 11,
     "metadata": {},
     "output_type": "execute_result"
    }
   ],
   "source": [
    "max_sequence_len = max([len(x) for x in input_sequences])\n",
    "max_sequence_len"
   ]
  },
  {
   "cell_type": "code",
   "execution_count": 12,
   "id": "622cd480",
   "metadata": {},
   "outputs": [],
   "source": [
    "inputsequences = np.array(pad_sequences(input_sequences,maxlen=max_sequence_len,padding='pre'))"
   ]
  },
  {
   "cell_type": "code",
   "execution_count": 13,
   "id": "16e4e743",
   "metadata": {},
   "outputs": [],
   "source": [
    "import tensorflow as tf"
   ]
  },
  {
   "cell_type": "code",
   "execution_count": 14,
   "id": "4b8bfae4",
   "metadata": {},
   "outputs": [],
   "source": [
    "x,y = inputsequences[:,:-1], inputsequences[:,-1]"
   ]
  },
  {
   "cell_type": "code",
   "execution_count": 15,
   "id": "a1f70bb5",
   "metadata": {},
   "outputs": [],
   "source": [
    "y = tf.keras.utils.to_categorical(y,num_classes=total_words)"
   ]
  },
  {
   "cell_type": "code",
   "execution_count": 16,
   "id": "f02994f3",
   "metadata": {},
   "outputs": [],
   "source": [
    "x_train,x_test,y_train,y_test = train_test_split(x,y,test_size=0.2)"
   ]
  },
  {
   "cell_type": "code",
   "execution_count": 17,
   "id": "105c9795",
   "metadata": {},
   "outputs": [],
   "source": [
    "from tensorflow.keras.models import Sequential\n",
    "from tensorflow.keras.layers import Embedding,LSTM,Dense,Dropout,GRU"
   ]
  },
  {
   "cell_type": "markdown",
   "id": "57f045da",
   "metadata": {},
   "source": [
    "## MODEL CREATION"
   ]
  },
  {
   "cell_type": "code",
   "execution_count": 56,
   "id": "13943740",
   "metadata": {},
   "outputs": [],
   "source": [
    "model = Sequential()"
   ]
  },
  {
   "cell_type": "code",
   "execution_count": 57,
   "id": "f78c2f55",
   "metadata": {},
   "outputs": [],
   "source": [
    "model.add(Embedding(total_words+1,100,input_length=max_sequence_len-1))"
   ]
  },
  {
   "cell_type": "code",
   "execution_count": 58,
   "id": "fb470e28",
   "metadata": {},
   "outputs": [],
   "source": [
    "model.add(LSTM(150,return_sequences=True))"
   ]
  },
  {
   "cell_type": "code",
   "execution_count": 59,
   "id": "6b7e47b7",
   "metadata": {},
   "outputs": [],
   "source": [
    "model.add(Dropout(0.2))"
   ]
  },
  {
   "cell_type": "code",
   "execution_count": 60,
   "id": "538e8f72",
   "metadata": {},
   "outputs": [],
   "source": [
    "model.add(LSTM(100))"
   ]
  },
  {
   "cell_type": "code",
   "execution_count": 61,
   "id": "0dec37ad",
   "metadata": {},
   "outputs": [],
   "source": [
    "model.add(Dense(total_words,activation='softmax'))"
   ]
  },
  {
   "cell_type": "code",
   "execution_count": 62,
   "id": "037fb851",
   "metadata": {},
   "outputs": [],
   "source": [
    "history = model.compile(loss='categorical_crossentropy',optimizer='adam',metrics=['accuracy'])"
   ]
  },
  {
   "cell_type": "markdown",
   "id": "6d4d076f",
   "metadata": {},
   "source": [
    "# MODEL TRAINING"
   ]
  },
  {
   "cell_type": "code",
   "execution_count": 63,
   "id": "b0c9cfea",
   "metadata": {},
   "outputs": [],
   "source": [
    "from tensorflow.keras.callbacks import EarlyStopping"
   ]
  },
  {
   "cell_type": "code",
   "execution_count": 64,
   "id": "486db650",
   "metadata": {},
   "outputs": [],
   "source": [
    "earlystopping = EarlyStopping(monitor='val_loss',patience=5,restore_best_weights=True)"
   ]
  },
  {
   "cell_type": "code",
   "execution_count": 70,
   "id": "304c3f96",
   "metadata": {},
   "outputs": [
    {
     "name": "stdout",
     "output_type": "stream",
     "text": [
      "Epoch 1/100\n",
      "644/644 [==============================] - 23s 36ms/step - loss: 6.4384 - accuracy: 0.0375 - val_loss: 6.9585 - val_accuracy: 0.0441\n",
      "Epoch 2/100\n",
      "644/644 [==============================] - 21s 32ms/step - loss: 6.2437 - accuracy: 0.0476 - val_loss: 7.0450 - val_accuracy: 0.0503\n",
      "Epoch 3/100\n",
      "644/644 [==============================] - 20s 31ms/step - loss: 6.1086 - accuracy: 0.0505 - val_loss: 7.0337 - val_accuracy: 0.0513\n",
      "Epoch 4/100\n",
      "644/644 [==============================] - 20s 31ms/step - loss: 5.9864 - accuracy: 0.0526 - val_loss: 7.0882 - val_accuracy: 0.0532\n",
      "Epoch 5/100\n",
      "644/644 [==============================] - 20s 30ms/step - loss: 5.8656 - accuracy: 0.0602 - val_loss: 7.1417 - val_accuracy: 0.0612\n",
      "Epoch 6/100\n",
      "644/644 [==============================] - 19s 30ms/step - loss: 5.7425 - accuracy: 0.0659 - val_loss: 7.2017 - val_accuracy: 0.0569\n",
      "Epoch 7/100\n",
      "644/644 [==============================] - 20s 32ms/step - loss: 5.6142 - accuracy: 0.0723 - val_loss: 7.2881 - val_accuracy: 0.0661\n",
      "Epoch 8/100\n",
      "644/644 [==============================] - 20s 31ms/step - loss: 5.4824 - accuracy: 0.0783 - val_loss: 7.3849 - val_accuracy: 0.0647\n",
      "Epoch 9/100\n",
      "644/644 [==============================] - 19s 30ms/step - loss: 5.3569 - accuracy: 0.0864 - val_loss: 7.4904 - val_accuracy: 0.0668\n",
      "Epoch 10/100\n",
      "644/644 [==============================] - 19s 30ms/step - loss: 5.2357 - accuracy: 0.0922 - val_loss: 7.5964 - val_accuracy: 0.0694\n",
      "Epoch 11/100\n",
      "644/644 [==============================] - 19s 30ms/step - loss: 5.1143 - accuracy: 0.0984 - val_loss: 7.7228 - val_accuracy: 0.0684\n",
      "Epoch 12/100\n",
      "644/644 [==============================] - 21s 32ms/step - loss: 4.9970 - accuracy: 0.1068 - val_loss: 7.7561 - val_accuracy: 0.0666\n",
      "Epoch 13/100\n",
      "644/644 [==============================] - 21s 32ms/step - loss: 4.8799 - accuracy: 0.1116 - val_loss: 7.9262 - val_accuracy: 0.0666\n",
      "Epoch 14/100\n",
      "644/644 [==============================] - 21s 32ms/step - loss: 4.7661 - accuracy: 0.1175 - val_loss: 8.0236 - val_accuracy: 0.0659\n",
      "Epoch 15/100\n",
      "644/644 [==============================] - 20s 31ms/step - loss: 4.6568 - accuracy: 0.1250 - val_loss: 8.1601 - val_accuracy: 0.0649\n",
      "Epoch 16/100\n",
      "644/644 [==============================] - 20s 31ms/step - loss: 4.5512 - accuracy: 0.1308 - val_loss: 8.2044 - val_accuracy: 0.0678\n",
      "Epoch 17/100\n",
      "644/644 [==============================] - 21s 33ms/step - loss: 4.4522 - accuracy: 0.1357 - val_loss: 8.4041 - val_accuracy: 0.0661\n",
      "Epoch 18/100\n",
      "644/644 [==============================] - 21s 32ms/step - loss: 4.3577 - accuracy: 0.1436 - val_loss: 8.4955 - val_accuracy: 0.0688\n",
      "Epoch 19/100\n",
      "644/644 [==============================] - 21s 32ms/step - loss: 4.2617 - accuracy: 0.1504 - val_loss: 8.6531 - val_accuracy: 0.0657\n",
      "Epoch 20/100\n",
      "644/644 [==============================] - 21s 32ms/step - loss: 4.1738 - accuracy: 0.1612 - val_loss: 8.7508 - val_accuracy: 0.0631\n",
      "Epoch 21/100\n",
      "644/644 [==============================] - 21s 33ms/step - loss: 4.0941 - accuracy: 0.1715 - val_loss: 8.8709 - val_accuracy: 0.0589\n",
      "Epoch 22/100\n",
      "644/644 [==============================] - 21s 32ms/step - loss: 4.0119 - accuracy: 0.1846 - val_loss: 9.0032 - val_accuracy: 0.0610\n",
      "Epoch 23/100\n",
      "644/644 [==============================] - 20s 32ms/step - loss: 3.9362 - accuracy: 0.1930 - val_loss: 9.1180 - val_accuracy: 0.0602\n",
      "Epoch 24/100\n",
      "644/644 [==============================] - 21s 33ms/step - loss: 3.8593 - accuracy: 0.2085 - val_loss: 9.2459 - val_accuracy: 0.0604\n",
      "Epoch 25/100\n",
      "644/644 [==============================] - 20s 32ms/step - loss: 3.7902 - accuracy: 0.2179 - val_loss: 9.3333 - val_accuracy: 0.0629\n",
      "Epoch 26/100\n",
      "644/644 [==============================] - 20s 32ms/step - loss: 3.7222 - accuracy: 0.2311 - val_loss: 9.4679 - val_accuracy: 0.0581\n",
      "Epoch 27/100\n",
      "644/644 [==============================] - 21s 32ms/step - loss: 3.6565 - accuracy: 0.2418 - val_loss: 9.5991 - val_accuracy: 0.0542\n",
      "Epoch 28/100\n",
      "644/644 [==============================] - 21s 33ms/step - loss: 3.5977 - accuracy: 0.2529 - val_loss: 9.6742 - val_accuracy: 0.0532\n",
      "Epoch 29/100\n",
      "644/644 [==============================] - 21s 33ms/step - loss: 3.5358 - accuracy: 0.2629 - val_loss: 9.7948 - val_accuracy: 0.0561\n",
      "Epoch 30/100\n",
      "644/644 [==============================] - 20s 31ms/step - loss: 3.4793 - accuracy: 0.2752 - val_loss: 9.8828 - val_accuracy: 0.0542\n",
      "Epoch 31/100\n",
      "644/644 [==============================] - 20s 31ms/step - loss: 3.4216 - accuracy: 0.2842 - val_loss: 9.9843 - val_accuracy: 0.0550\n",
      "Epoch 32/100\n",
      "644/644 [==============================] - 20s 32ms/step - loss: 3.3726 - accuracy: 0.2898 - val_loss: 10.0945 - val_accuracy: 0.0536\n",
      "Epoch 33/100\n",
      "644/644 [==============================] - 20s 31ms/step - loss: 3.3217 - accuracy: 0.3019 - val_loss: 10.1772 - val_accuracy: 0.0540\n",
      "Epoch 34/100\n",
      "644/644 [==============================] - 20s 31ms/step - loss: 3.2752 - accuracy: 0.3053 - val_loss: 10.3046 - val_accuracy: 0.0532\n",
      "Epoch 35/100\n",
      "644/644 [==============================] - 21s 32ms/step - loss: 3.2271 - accuracy: 0.3183 - val_loss: 10.3760 - val_accuracy: 0.0517\n",
      "Epoch 36/100\n",
      "644/644 [==============================] - 21s 32ms/step - loss: 3.1730 - accuracy: 0.3265 - val_loss: 10.4400 - val_accuracy: 0.0525\n",
      "Epoch 37/100\n",
      "644/644 [==============================] - 20s 32ms/step - loss: 3.1234 - accuracy: 0.3369 - val_loss: 10.5158 - val_accuracy: 0.0527\n",
      "Epoch 38/100\n",
      "644/644 [==============================] - 21s 32ms/step - loss: 3.0825 - accuracy: 0.3436 - val_loss: 10.6160 - val_accuracy: 0.0521\n",
      "Epoch 39/100\n",
      "644/644 [==============================] - 20s 32ms/step - loss: 3.0436 - accuracy: 0.3499 - val_loss: 10.6776 - val_accuracy: 0.0530\n",
      "Epoch 40/100\n",
      "644/644 [==============================] - 20s 30ms/step - loss: 3.0011 - accuracy: 0.3569 - val_loss: 10.7810 - val_accuracy: 0.0534\n",
      "Epoch 41/100\n",
      "644/644 [==============================] - 18s 29ms/step - loss: 2.9551 - accuracy: 0.3667 - val_loss: 10.8266 - val_accuracy: 0.0507\n",
      "Epoch 42/100\n",
      "644/644 [==============================] - 19s 29ms/step - loss: 2.9161 - accuracy: 0.3747 - val_loss: 10.9268 - val_accuracy: 0.0525\n",
      "Epoch 43/100\n",
      "644/644 [==============================] - 20s 31ms/step - loss: 2.8714 - accuracy: 0.3829 - val_loss: 11.0094 - val_accuracy: 0.0515\n",
      "Epoch 44/100\n",
      "644/644 [==============================] - 20s 32ms/step - loss: 2.8378 - accuracy: 0.3846 - val_loss: 11.0712 - val_accuracy: 0.0511\n",
      "Epoch 45/100\n",
      "644/644 [==============================] - 21s 32ms/step - loss: 2.8050 - accuracy: 0.3909 - val_loss: 11.1481 - val_accuracy: 0.0503\n",
      "Epoch 46/100\n",
      "644/644 [==============================] - 21s 32ms/step - loss: 2.7655 - accuracy: 0.4011 - val_loss: 11.1875 - val_accuracy: 0.0476\n",
      "Epoch 47/100\n",
      "644/644 [==============================] - 21s 32ms/step - loss: 2.7284 - accuracy: 0.4091 - val_loss: 11.3095 - val_accuracy: 0.0499\n",
      "Epoch 48/100\n",
      "644/644 [==============================] - 20s 31ms/step - loss: 2.6941 - accuracy: 0.4136 - val_loss: 11.3651 - val_accuracy: 0.0505\n",
      "Epoch 49/100\n",
      "644/644 [==============================] - 20s 32ms/step - loss: 2.6633 - accuracy: 0.4187 - val_loss: 11.4204 - val_accuracy: 0.0521\n",
      "Epoch 50/100\n",
      "644/644 [==============================] - 19s 30ms/step - loss: 2.6266 - accuracy: 0.4277 - val_loss: 11.4643 - val_accuracy: 0.0544\n",
      "Epoch 51/100\n",
      "644/644 [==============================] - 19s 30ms/step - loss: 2.5972 - accuracy: 0.4319 - val_loss: 11.5331 - val_accuracy: 0.0509\n",
      "Epoch 52/100\n",
      "644/644 [==============================] - 20s 31ms/step - loss: 2.5610 - accuracy: 0.4382 - val_loss: 11.6158 - val_accuracy: 0.0499\n",
      "Epoch 53/100\n",
      "644/644 [==============================] - 19s 30ms/step - loss: 2.5343 - accuracy: 0.4440 - val_loss: 11.6552 - val_accuracy: 0.0493\n",
      "Epoch 54/100\n",
      "644/644 [==============================] - 19s 30ms/step - loss: 2.4995 - accuracy: 0.4479 - val_loss: 11.7614 - val_accuracy: 0.0497\n",
      "Epoch 55/100\n",
      "644/644 [==============================] - 20s 31ms/step - loss: 2.4701 - accuracy: 0.4564 - val_loss: 11.7906 - val_accuracy: 0.0519\n",
      "Epoch 56/100\n",
      "644/644 [==============================] - 20s 32ms/step - loss: 2.4406 - accuracy: 0.4618 - val_loss: 11.8976 - val_accuracy: 0.0503\n",
      "Epoch 57/100\n"
     ]
    },
    {
     "name": "stdout",
     "output_type": "stream",
     "text": [
      "644/644 [==============================] - 21s 32ms/step - loss: 2.4105 - accuracy: 0.4688 - val_loss: 11.9013 - val_accuracy: 0.0528\n",
      "Epoch 58/100\n",
      "644/644 [==============================] - 21s 32ms/step - loss: 2.3841 - accuracy: 0.4712 - val_loss: 11.9810 - val_accuracy: 0.0503\n",
      "Epoch 59/100\n",
      "644/644 [==============================] - 20s 31ms/step - loss: 2.3534 - accuracy: 0.4785 - val_loss: 12.0290 - val_accuracy: 0.0513\n",
      "Epoch 60/100\n",
      "644/644 [==============================] - 20s 31ms/step - loss: 2.3349 - accuracy: 0.4827 - val_loss: 12.0975 - val_accuracy: 0.0480\n",
      "Epoch 61/100\n",
      "644/644 [==============================] - 21s 32ms/step - loss: 2.2995 - accuracy: 0.4908 - val_loss: 12.1957 - val_accuracy: 0.0468\n",
      "Epoch 62/100\n",
      "644/644 [==============================] - 20s 32ms/step - loss: 2.2767 - accuracy: 0.4953 - val_loss: 12.2246 - val_accuracy: 0.0486\n",
      "Epoch 63/100\n",
      "644/644 [==============================] - 21s 33ms/step - loss: 2.2533 - accuracy: 0.4981 - val_loss: 12.2963 - val_accuracy: 0.0509\n",
      "Epoch 64/100\n",
      "644/644 [==============================] - 21s 32ms/step - loss: 2.2260 - accuracy: 0.5054 - val_loss: 12.3570 - val_accuracy: 0.0499\n",
      "Epoch 65/100\n",
      "644/644 [==============================] - 21s 32ms/step - loss: 2.2005 - accuracy: 0.5108 - val_loss: 12.4177 - val_accuracy: 0.0474\n",
      "Epoch 66/100\n",
      "644/644 [==============================] - 21s 32ms/step - loss: 2.1751 - accuracy: 0.5156 - val_loss: 12.4461 - val_accuracy: 0.0509\n",
      "Epoch 67/100\n",
      "644/644 [==============================] - 21s 32ms/step - loss: 2.1565 - accuracy: 0.5175 - val_loss: 12.4980 - val_accuracy: 0.0503\n",
      "Epoch 68/100\n",
      "644/644 [==============================] - 21s 33ms/step - loss: 2.1298 - accuracy: 0.5236 - val_loss: 12.5646 - val_accuracy: 0.0486\n",
      "Epoch 69/100\n",
      "644/644 [==============================] - 22s 34ms/step - loss: 2.1098 - accuracy: 0.5284 - val_loss: 12.6080 - val_accuracy: 0.0495\n",
      "Epoch 70/100\n",
      "644/644 [==============================] - 21s 33ms/step - loss: 2.0836 - accuracy: 0.5344 - val_loss: 12.6748 - val_accuracy: 0.0486\n",
      "Epoch 71/100\n",
      "644/644 [==============================] - 21s 32ms/step - loss: 2.0593 - accuracy: 0.5384 - val_loss: 12.7055 - val_accuracy: 0.0474\n",
      "Epoch 72/100\n",
      "644/644 [==============================] - 21s 32ms/step - loss: 2.0412 - accuracy: 0.5419 - val_loss: 12.7583 - val_accuracy: 0.0484\n",
      "Epoch 73/100\n",
      "644/644 [==============================] - 18s 28ms/step - loss: 2.0110 - accuracy: 0.5493 - val_loss: 12.8216 - val_accuracy: 0.0517\n",
      "Epoch 74/100\n",
      "644/644 [==============================] - 19s 29ms/step - loss: 1.9952 - accuracy: 0.5521 - val_loss: 12.8511 - val_accuracy: 0.0490\n",
      "Epoch 75/100\n",
      "644/644 [==============================] - 19s 29ms/step - loss: 1.9767 - accuracy: 0.5538 - val_loss: 12.9277 - val_accuracy: 0.0480\n",
      "Epoch 76/100\n",
      "644/644 [==============================] - 19s 29ms/step - loss: 1.9523 - accuracy: 0.5615 - val_loss: 12.9842 - val_accuracy: 0.0484\n",
      "Epoch 77/100\n",
      "644/644 [==============================] - 19s 29ms/step - loss: 1.9312 - accuracy: 0.5691 - val_loss: 13.0136 - val_accuracy: 0.0492\n",
      "Epoch 78/100\n",
      "644/644 [==============================] - 18s 28ms/step - loss: 1.9071 - accuracy: 0.5689 - val_loss: 13.0694 - val_accuracy: 0.0468\n",
      "Epoch 79/100\n",
      "644/644 [==============================] - 18s 29ms/step - loss: 1.8906 - accuracy: 0.5791 - val_loss: 13.1415 - val_accuracy: 0.0497\n",
      "Epoch 80/100\n",
      "644/644 [==============================] - 19s 29ms/step - loss: 1.8717 - accuracy: 0.5794 - val_loss: 13.1676 - val_accuracy: 0.0472\n",
      "Epoch 81/100\n",
      "644/644 [==============================] - 18s 28ms/step - loss: 1.8567 - accuracy: 0.5846 - val_loss: 13.2031 - val_accuracy: 0.0476\n",
      "Epoch 82/100\n",
      "644/644 [==============================] - 18s 28ms/step - loss: 1.8352 - accuracy: 0.5830 - val_loss: 13.3258 - val_accuracy: 0.0480\n",
      "Epoch 83/100\n",
      "644/644 [==============================] - 20s 31ms/step - loss: 1.8167 - accuracy: 0.5915 - val_loss: 13.3511 - val_accuracy: 0.0505\n",
      "Epoch 84/100\n",
      "644/644 [==============================] - 19s 29ms/step - loss: 1.7944 - accuracy: 0.5956 - val_loss: 13.3728 - val_accuracy: 0.0480\n",
      "Epoch 85/100\n",
      "644/644 [==============================] - 19s 29ms/step - loss: 1.7781 - accuracy: 0.5968 - val_loss: 13.4164 - val_accuracy: 0.0459\n",
      "Epoch 86/100\n",
      "644/644 [==============================] - 18s 29ms/step - loss: 1.7602 - accuracy: 0.6009 - val_loss: 13.4581 - val_accuracy: 0.0497\n",
      "Epoch 87/100\n",
      "644/644 [==============================] - 18s 28ms/step - loss: 1.7415 - accuracy: 0.6038 - val_loss: 13.5255 - val_accuracy: 0.0488\n",
      "Epoch 88/100\n",
      "644/644 [==============================] - 19s 29ms/step - loss: 1.7224 - accuracy: 0.6114 - val_loss: 13.5584 - val_accuracy: 0.0493\n",
      "Epoch 89/100\n",
      "644/644 [==============================] - 21s 33ms/step - loss: 1.7095 - accuracy: 0.6160 - val_loss: 13.5797 - val_accuracy: 0.0486\n",
      "Epoch 90/100\n",
      "644/644 [==============================] - 20s 31ms/step - loss: 1.6918 - accuracy: 0.6184 - val_loss: 13.6554 - val_accuracy: 0.0488\n",
      "Epoch 91/100\n",
      "644/644 [==============================] - 19s 30ms/step - loss: 1.6725 - accuracy: 0.6205 - val_loss: 13.6769 - val_accuracy: 0.0493\n",
      "Epoch 92/100\n",
      "644/644 [==============================] - 20s 32ms/step - loss: 1.6605 - accuracy: 0.6209 - val_loss: 13.7066 - val_accuracy: 0.0474\n",
      "Epoch 93/100\n",
      "644/644 [==============================] - 20s 31ms/step - loss: 1.6502 - accuracy: 0.6238 - val_loss: 13.7448 - val_accuracy: 0.0501\n",
      "Epoch 94/100\n",
      "644/644 [==============================] - 19s 30ms/step - loss: 1.6299 - accuracy: 0.6297 - val_loss: 13.7751 - val_accuracy: 0.0476\n",
      "Epoch 95/100\n",
      "644/644 [==============================] - 20s 30ms/step - loss: 1.6148 - accuracy: 0.6320 - val_loss: 13.8604 - val_accuracy: 0.0488\n",
      "Epoch 96/100\n",
      "644/644 [==============================] - 19s 30ms/step - loss: 1.5941 - accuracy: 0.6397 - val_loss: 13.8706 - val_accuracy: 0.0501\n",
      "Epoch 97/100\n",
      "644/644 [==============================] - 19s 29ms/step - loss: 1.5862 - accuracy: 0.6385 - val_loss: 13.9274 - val_accuracy: 0.0519\n",
      "Epoch 98/100\n",
      "644/644 [==============================] - 19s 29ms/step - loss: 1.5720 - accuracy: 0.6411 - val_loss: 13.9664 - val_accuracy: 0.0503\n",
      "Epoch 99/100\n",
      "644/644 [==============================] - 19s 30ms/step - loss: 1.5531 - accuracy: 0.6487 - val_loss: 14.0028 - val_accuracy: 0.0499\n",
      "Epoch 100/100\n",
      "644/644 [==============================] - 19s 30ms/step - loss: 1.5414 - accuracy: 0.6467 - val_loss: 14.0740 - val_accuracy: 0.0503\n"
     ]
    },
    {
     "data": {
      "text/plain": [
       "<keras.src.callbacks.History at 0x1eead0bc1d0>"
      ]
     },
     "execution_count": 70,
     "metadata": {},
     "output_type": "execute_result"
    }
   ],
   "source": [
    "model.fit(x_train,y_train,epochs=100,validation_data=(x_test,y_test),verbose=1)"
   ]
  },
  {
   "cell_type": "markdown",
   "id": "350ecd60",
   "metadata": {},
   "source": [
    "# PREDICTIONS"
   ]
  },
  {
   "cell_type": "code",
   "execution_count": 71,
   "id": "28d8dc64",
   "metadata": {},
   "outputs": [],
   "source": [
    "def predict_next_word(model,tokenizer,text,max_sequence_len):\n",
    "    token_list = tokenizer.texts_to_sequences([text])[0]\n",
    "    if len(token_list)>=max_sequence_len:\n",
    "        token_list = token_list[-(max_sequence_len-1):]\n",
    "    token_list = pad_sequences([token_list],maxlen=max_sequence_len-1,padding='pre')\n",
    "    predicted = model.predict(token_list,verbose=1)\n",
    "    predicted_word_index = np.argmax(predicted,axis=1)\n",
    "    for word,index in tokenizer.word_index.items():\n",
    "        if index==predicted_word_index:\n",
    "            return word\n",
    "    return None"
   ]
  },
  {
   "cell_type": "code",
   "execution_count": 72,
   "id": "c2eea4b5",
   "metadata": {},
   "outputs": [
    {
     "name": "stdout",
     "output_type": "stream",
     "text": [
      "1/1 [==============================] - 0s 40ms/step\n",
      "and\n"
     ]
    }
   ],
   "source": [
    "text = \"Actus Primus. Scoena Prima.Enter Barnardo and Francisco\"\n",
    "print(predict_next_word(model,tokenizer,text,max_sequence_len))"
   ]
  },
  {
   "cell_type": "code",
   "execution_count": 75,
   "id": "0fb544f8",
   "metadata": {},
   "outputs": [
    {
     "name": "stdout",
     "output_type": "stream",
     "text": [
      "1/1 [==============================] - 0s 35ms/step\n",
      "bitter\n"
     ]
    }
   ],
   "source": [
    "text = \"Fran. For this releefe much thankes: 'Tis\"\n",
    "print(predict_next_word(model,tokenizer,text,max_sequence_len))"
   ]
  },
  {
   "cell_type": "code",
   "execution_count": 74,
   "id": "9597191c",
   "metadata": {},
   "outputs": [
    {
     "name": "stdout",
     "output_type": "stream",
     "text": [
      "1/1 [==============================] - 0s 29ms/step\n",
      "and\n"
     ]
    }
   ],
   "source": [
    "text = \"Barn. Well, goodnight. If you do meet Horatio\"\n",
    "print(predict_next_word(model,tokenizer,text,max_sequence_len))"
   ]
  },
  {
   "cell_type": "code",
   "execution_count": null,
   "id": "de834611",
   "metadata": {},
   "outputs": [],
   "source": []
  }
 ],
 "metadata": {
  "kernelspec": {
   "display_name": "Python 3 (ipykernel)",
   "language": "python",
   "name": "python3"
  },
  "language_info": {
   "codemirror_mode": {
    "name": "ipython",
    "version": 3
   },
   "file_extension": ".py",
   "mimetype": "text/x-python",
   "name": "python",
   "nbconvert_exporter": "python",
   "pygments_lexer": "ipython3",
   "version": "3.11.5"
  }
 },
 "nbformat": 4,
 "nbformat_minor": 5
}
